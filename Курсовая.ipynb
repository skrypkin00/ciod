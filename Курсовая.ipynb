{
 "cells": [
  {
   "cell_type": "markdown",
   "metadata": {},
   "source": [
    "# Курсовая работа по дисциплине СиАОД\n",
    "# Выполнил студент группы БСТ1903 Скрыпкин Всеволод\n",
    "## Задача 1\n",
    "«Треугольник с максимальным периметром»\n",
    "\n",
    "Массив A состоит из целых положительных чисел - длин отрезков. Составьте из трех отрезков такой треугольник, чтобы его периметр был максимально возможным. Если невозможно составить треугольник с положительной площадью - функция возвращает 0."
   ]
  },
  {
   "cell_type": "code",
   "execution_count": 18,
   "metadata": {},
   "outputs": [
    {
     "name": "stdout",
     "output_type": "stream",
     "text": [
      "Введите длину массива4\n",
      "1\n",
      "2\n",
      "3\n",
      "4\n",
      "[4, 3, 2, 1]\n",
      "Периметр= 9\n"
     ]
    }
   ],
   "source": [
    "#Находжение периметра\n",
    "def Perimetr (a, b, c):\n",
    "    if (a+b)>c and (a+c)>b and (b+c)>a:\n",
    "        return int(a+b+c)\n",
    "    else:\n",
    "        return 0\n",
    "#\n",
    "length=int(input('Введите длину массива'))\n",
    "mas=[]\n",
    "for i in range(length):\n",
    "    mas.append(int(input()))\n",
    "mas=sorted(mas, reverse=True)\n",
    "print(mas)\n",
    "for i in range(len(mas)-2):\n",
    "    if Perimetr(mas[i], mas[i+1], mas[i+2])>0:\n",
    "        print(\"Периметр=\", Perimetr(mas[i], mas[i+1], mas[i+2]))\n",
    "        break\n"
   ]
  },
  {
   "cell_type": "markdown",
   "metadata": {},
   "source": [
    "## Задача 2\n",
    "«Максимальное число»\n",
    "\n",
    "Дан массив неотрицательных целых чисел nums. Расположите их в таком порядке, чтобы вместе они образовали максимально возможное число.\n",
    "\n"
   ]
  },
  {
   "cell_type": "code",
   "execution_count": 19,
   "metadata": {},
   "outputs": [
    {
     "name": "stdout",
     "output_type": "stream",
     "text": [
      "Исходный массив:\n",
      "\n",
      " A = [8308, 8308, 830]\n",
      "\n",
      "Отсортированный массив:\n",
      "\n",
      " A = [8308, 8308, 830]\n",
      "\n",
      "Максимально возможное число:\n",
      "\n",
      " 83088308830\n"
     ]
    }
   ],
   "source": [
    "def generateArr_2(size):\n",
    "    if size<1: size=1\n",
    "    elif size>100: size=100\n",
    "    arr=[]\n",
    "    for i in range(size):\n",
    "        arr.append(random.randint(0,10**9))\n",
    "    return arr\n",
    "#Функция возвращает true, если первое число больше второго\n",
    "def value1_bigger(int_val1, int_val2):\n",
    "    val1=str(int_val1)\n",
    "    val2=str(int_val2)\n",
    "    \n",
    "    \n",
    "    if int(val1+val2)>int(val2+val1):\n",
    "        return True\n",
    "    else:\n",
    "        return False\n",
    "def exercise_2():\n",
    "    # Для ввода массива:\n",
    "    arr=[8308,8308,830]\n",
    "    # Для генерации массива:\n",
    "    # arr=generateArr_2(10)\n",
    "    print('Исходный массив:\\n\\n A =',arr)\n",
    "    \n",
    "    max_val=\"\"\n",
    "\n",
    "    for i in range(len(arr)-1):\n",
    "        max_elem=arr[i]\n",
    "        max_index=i\n",
    "\n",
    "        for j in range(i+1, len(arr)):\n",
    "            if value1_bigger(arr[j],max_elem):\n",
    "                max_elem=arr[j]\n",
    "                max_index=j\n",
    "        \n",
    "        arr[max_index],arr[i]=arr[i],arr[max_index]\n",
    "\n",
    "    for i in range(len(arr)):\n",
    "        max_val+=str(arr[i])\n",
    "\n",
    "    print(\"\\nОтсортированный массив:\\n\\n A =\",arr)\n",
    "    print(\"\\nМаксимально возможное число:\\n\\n\",max_val)\n",
    "\n",
    "    \n",
    "exercise_2()"
   ]
  },
  {
   "cell_type": "markdown",
   "metadata": {},
   "source": [
    "## Задача 3\n",
    "«Сортировка диагоналей в матрице»\n",
    "\n",
    "Дана матрица mat размером m * n, значения - целочисленные. Напишите функцию, сортирующую каждую диагональ матрицы по возрастанию и возвращающую получившуюся матрицу"
   ]
  },
  {
   "cell_type": "code",
   "execution_count": 20,
   "metadata": {},
   "outputs": [
    {
     "name": "stdout",
     "output_type": "stream",
     "text": [
      "Исходная матрица:\n",
      "\n",
      "[90, 19, 72, 90, 9] \n",
      "[72, 69, 17, 57, 77] \n",
      "[28, 56, 59, 3, 67] \n",
      "[1, 77, 27, 16, 16] \n",
      "\n",
      "\n",
      "Отсортированная матрица:\n",
      "\n",
      "[16, 3, 57, 77, 9] \n",
      "[27, 59, 16, 67, 90] \n",
      "[28, 56, 69, 17, 72] \n",
      "[1, 77, 72, 90, 19] \n"
     ]
    }
   ],
   "source": [
    "import random\n",
    "# Генерация массива для матрицы\n",
    "def generateArr_3(size):\n",
    "    if size<1: size=1\n",
    "    elif size>100: size=100\n",
    "    arr = []\n",
    "    for i in range(size):\n",
    "        arr.append(random.randint(1,100))\n",
    "    return arr\n",
    "\n",
    "# Вывод матрицы в столбик\n",
    "def print_mat(mat):\n",
    "    for i in range(len(mat)):\n",
    "        print(mat[i], \"\")\n",
    "# Берет числа из диагонали\n",
    "def take_nums(mat, row, col):\n",
    "    temp = []\n",
    "    while row < len(mat) and col < len(mat[0]):\n",
    "        temp.append(mat[row][col])\n",
    "        row += 1\n",
    "        col += 1\n",
    "    return temp\n",
    "\n",
    "# Вставляет числа в диагональ\n",
    "def insert_nums(mat, row, col, temp):\n",
    "    i = 0\n",
    "    while row < len(mat) and col < len(mat[0]) and i < len(temp):\n",
    "        mat[row][col]=temp[i]\n",
    "        row += 1\n",
    "        col += 1\n",
    "        i += 1\n",
    "\n",
    "        \n",
    "def exercise_3():\n",
    "    # Для генерации массива:\n",
    "    mat = []\n",
    "    m = 4  # строки row\n",
    "    n = 5  # столбцы col\n",
    "    for i in range(m):\n",
    "        mat.append(generateArr_3(n))\n",
    "\n",
    "    print(\"Исходная матрица:\\n\")\n",
    "    print_mat(mat)\n",
    "\n",
    "    # Часть по строчкам\n",
    "    for i in range(m-1):\n",
    "        temp = take_nums(mat, i, 0)\n",
    "        temp.sort()\n",
    "        insert_nums(mat, i, 0, temp)\n",
    "\n",
    "    # Часть по столбцам\n",
    "    for i in range(1,n-1):\n",
    "        temp = take_nums(mat, 0, i)\n",
    "        temp.sort()\n",
    "        insert_nums(mat, 0, i, temp)\n",
    "\n",
    "    print(\"\\n\\nОтсортированная матрица:\\n\")\n",
    "    print_mat(mat)\n",
    "    \n",
    "exercise_3()"
   ]
  },
  {
   "cell_type": "markdown",
   "metadata": {},
   "source": [
    "## Задача 4\n",
    "«Шарики и стрелы»\n",
    "\n",
    "Некоторые сферические шарики распределены по двухмерному пространству. Для каждого шарика даны xкоординаты начала и конца его горизонтального диаметра. Так как пространство двумерно, то yкоординаты не имеют значения в данной задаче. Координата xstart всегда меньше xend. Стрелу можно выстрелить строго вертикально (вдоль yоси) из разных точек xоси. Шарик с координатами xstart и xend уничтожается стрелой, если она была выпущена из такой позиции x, что xstart ⩽ x ⩽ xend. Когда стрела выпущена, она летит в пространстве бесконечное время (уничтожая все шарики на пути). Дан массив points, где points[i] = [xstart, xend]. Напишите функцию, возвращающую минимальное количество стрел, которые нужно выпустить, чтобы уничтожить все шарики."
   ]
  },
  {
   "cell_type": "code",
   "execution_count": 21,
   "metadata": {},
   "outputs": [
    {
     "name": "stdout",
     "output_type": "stream",
     "text": [
      "Массив: points = [[73, 570], [113, 276], [155, 884], [440, 787], [707, 982]]\n",
      "\n",
      "Количество выстрелов:  2\n"
     ]
    }
   ],
   "source": [
    "# Генерация матрицы\n",
    "def generate_arrG(size):\n",
    "    arrG = []\n",
    "    for i in range(size):\n",
    "        arrG.append(random.randint(0, 1000))\n",
    "\n",
    "    arrG.sort()\n",
    "    return arrG\n",
    "\n",
    "# Сортировка массива\n",
    "def sort_arrS(arrG):\n",
    "    for i in range(len(arrG) - 1):\n",
    "        min_Xstart = arrG[i][0]\n",
    "        min_index = i\n",
    "        for j in range(i + 1, len(arrG)):\n",
    "            if min_Xstart > arrG[j][0]:\n",
    "                min_index = j\n",
    "                min_Xstart = arrG[j][0]\n",
    "\n",
    "        if not min_index==i:\n",
    "            arrG[min_index],arrG[i]=arrG[i],arrG[min_index]\n",
    "            \n",
    "def exercise():\n",
    "    # Генерация массива\n",
    "    points=[]\n",
    "    size = 5\n",
    "    for i in range(size):\n",
    "        points.append(generate_arrG(2))\n",
    "\n",
    "    sort_arrS(points)\n",
    "    print(\"Массив: points =\", points)\n",
    "\n",
    "    shots=0\n",
    "\n",
    "    while len(points)>0:\n",
    "        k_balls=0\n",
    "        i = 1\n",
    "        while i<len(points) and points[i - 1][1]>=points[i][0] and points[0][1]>=points[i][0]:\n",
    "            i+=1\n",
    "            k_balls+=1\n",
    "\n",
    "        while k_balls>=0:\n",
    "            del points[k_balls]\n",
    "            k_balls-=1\n",
    "\n",
    "        shots+=1\n",
    "\n",
    "    print(\"\\nКоличество выстрелов: \",shots)\n",
    "exercise()"
   ]
  },
  {
   "cell_type": "markdown",
   "metadata": {},
   "source": [
    "## Задача 5\n",
    "«Стопки монет»\n",
    "\n",
    "На столе стоят 3n стопок монет. Вы и ваши друзья Алиса и Боб забираете стопки монет по следующему алгоритму:\n",
    "\n",
    "Вы выбираете 3 стопки монет из оставшихся на столе.\n",
    "Алиса забирает себе стопку с максимальным количеством монет.\n",
    "Вы забираете одну из двух оставшихся стопок.\n",
    "Боб забирает последнюю стопку.\n",
    "Если еще остались стопки, то действия повторяются с первого шага. Дан массив целых положительных чисел piles. Напишите функцию, возвращающую максимальное число монет, которое вы можете получить."
   ]
  },
  {
   "cell_type": "code",
   "execution_count": 22,
   "metadata": {},
   "outputs": [
    {
     "data": {
      "text/plain": [
       "18"
      ]
     },
     "execution_count": 22,
     "metadata": {},
     "output_type": "execute_result"
    }
   ],
   "source": [
    "\n",
    "def moneti(arr):\n",
    "    arr.sort()\n",
    "    a=len(arr)//3\n",
    "    s=0\n",
    "    while a<len(arr):\n",
    "        s=s+arr[a]\n",
    "        a=a+2\n",
    "    return (s)\n",
    "\n",
    "moneti ( [9,8,7,6,5,1,2,3,4])"
   ]
  },
  {
   "cell_type": "markdown",
   "metadata": {},
   "source": [
    "## Задача 6\n",
    "«Объединение отрезков»\n",
    "Дан массив отрезков intervals, в котором intervals[i] = [start_i, end_i], некоторые отрезки могут пересекаться. Напишите функцию, которая объединяет все пересекающиеся отрезки в один и возвращает новый массив непересекающихся отрезков."
   ]
  },
  {
   "cell_type": "code",
   "execution_count": 1,
   "metadata": {},
   "outputs": [
    {
     "data": {
      "text/plain": [
       "[[1, 5], [6, 11]]"
      ]
     },
     "execution_count": 1,
     "metadata": {},
     "output_type": "execute_result"
    }
   ],
   "source": [
    "def comb_otr(interv):\n",
    "    interv.sort()\n",
    "    i=0\n",
    "    while i <len(interv)-1:\n",
    "        if interv[i][1]>=interv[i+1][0]:\n",
    "            a=interv.pop(i)\n",
    "            b=interv.pop(i)\n",
    "            interv.insert(len(interv), [a[0],b[1]])\n",
    "        else:\n",
    "            i+=1            \n",
    "    return interv\n",
    "\n",
    "comb_otr( [[1,4],[4,5],[6,9],[7,11]])"
   ]
  },
  {
   "cell_type": "markdown",
   "metadata": {},
   "source": [
    "## ЗАДАЧА 7\n",
    "Даны две строки: s1 и s2 с одинаковым размером, проверьте, может ли\n",
    "некоторая перестановка строки s1 “победить” некоторую перестановку\n",
    "строки s2 или наоборот.\n",
    "Строка x может “победить” строку y (обе имеют размер n), если x[i]> = y\n",
    "[i] (в алфавитном порядке) для всех i от 0 до n-1.\n"
   ]
  },
  {
   "cell_type": "code",
   "execution_count": 24,
   "metadata": {},
   "outputs": [
    {
     "data": {
      "text/plain": [
       "True"
      ]
     },
     "execution_count": 24,
     "metadata": {},
     "output_type": "execute_result"
    }
   ],
   "source": [
    "def zadacha_7(str1, str2):\n",
    "    if len(str1)!=len(str2):\n",
    "        return False\n",
    "    st1=list(str1)\n",
    "    st2=list(str2)\n",
    "    l=len(st1)\n",
    "    st1.sort()\n",
    "    st2.sort()\n",
    "    i=0\n",
    "    while i<l and st1[i]==st2[i]:\n",
    "        i+=1\n",
    "    if i == l:\n",
    "        return True\n",
    "    if st1[i]>st2[i]:\n",
    "        for k in range(len(st1)):\n",
    "            if(st1[k]<st2[k]):\n",
    "                return False\n",
    "        return True\n",
    "    else:\n",
    "        for k in range(len(st2)):\n",
    "            if(st2[k]<st1[k]):\n",
    "                return False\n",
    "        return True\n",
    "            \n",
    "    \n",
    "zadacha_7('cba','ged')"
   ]
  },
  {
   "cell_type": "markdown",
   "metadata": {},
   "source": [
    "## ЗАДАЧА 8\n",
    "Дана строка s, вернуть самую длинную полиндромную подстроку в s.\n"
   ]
  },
  {
   "cell_type": "code",
   "execution_count": 25,
   "metadata": {},
   "outputs": [
    {
     "name": "stdout",
     "output_type": "stream",
     "text": [
      "оло\n"
     ]
    }
   ],
   "source": [
    "import time\n",
    "def palindrome_test(x):\n",
    "    if len(x) <= 1: \n",
    "        return False\n",
    "    return x == x[::-1] \n",
    "def palindrome(s):\n",
    "    last = len(s)\n",
    "    maxstr = ''\n",
    "    for i in range(last):\n",
    "        for j in range(i, last):\n",
    "            b = s[i:j+1] \n",
    "            if palindrome_test(b) and len(maxstr)<len(b):\n",
    "                maxstr=b\n",
    "    return maxstr\n",
    "\n",
    "          \n",
    "print(palindrome(\"капролодкакпопнонj\"))\n"
   ]
  },
  {
   "cell_type": "markdown",
   "metadata": {},
   "source": [
    "## ЗАДАЧА 9\n",
    "Вернуть количество отдельных непустых подстрок текста, которые могут\n",
    "быть записаны как конкатенация некоторой строки с самой собой (т.е. она\n",
    "может быть записана, как a + a, где a - некоторая строка).\n"
   ]
  },
  {
   "cell_type": "code",
   "execution_count": 26,
   "metadata": {},
   "outputs": [
    {
     "name": "stdout",
     "output_type": "stream",
     "text": [
      "д д\n",
      "o o\n"
     ]
    },
    {
     "data": {
      "text/plain": [
       "({'oo', 'дд'}, 2)"
      ]
     },
     "execution_count": 26,
     "metadata": {},
     "output_type": "execute_result"
    }
   ],
   "source": [
    "import time\n",
    "def len_podstr(str1):\n",
    "    rez=set()\n",
    "    for i in range(len(str1)-1):\n",
    "        k=i\n",
    "        for j in range(i+1, len(str1)):\n",
    "            #print(str1[i:j],str1[j:j+(j-i)])\n",
    "            if j+(j-i)+1<len(str1) and str1[i:j]==str1[j:j+(j-i)]:\n",
    "                print(str1[i:j],str1[j:j+(j-i)])\n",
    "                rez.add(str1[i:j+(j-i)])\n",
    "                         \n",
    "    return rez, len(rez)\n",
    "\n",
    "\n",
    "len_podstr(\"абвгддгвполомткooтокшру\") \n"
   ]
  },
  {
   "cell_type": "markdown",
   "metadata": {},
   "source": [
    "## Вывод:\n",
    "В ходе проделанной работы были выполнены задачи на нахождение максимального периметра, максимального числа, сортировки диагоналей, 3 задачи по работе со строками, монетки, интервалы а также шарики и стрелы"
   ]
  },
  {
   "cell_type": "code",
   "execution_count": null,
   "metadata": {},
   "outputs": [],
   "source": []
  }
 ],
 "metadata": {
  "kernelspec": {
   "display_name": "Python 3",
   "language": "python",
   "name": "python3"
  },
  "language_info": {
   "codemirror_mode": {
    "name": "ipython",
    "version": 3
   },
   "file_extension": ".py",
   "mimetype": "text/x-python",
   "name": "python",
   "nbconvert_exporter": "python",
   "pygments_lexer": "ipython3",
   "version": "3.8.5"
  }
 },
 "nbformat": 4,
 "nbformat_minor": 5
}
